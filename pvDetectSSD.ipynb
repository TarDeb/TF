{
  "nbformat": 4,
  "nbformat_minor": 0,
  "metadata": {
    "colab": {
      "provenance": [],
      "gpuType": "T4",
      "mount_file_id": "1L1xsTLgR_ayKUj52ww1QMe_dYHF4poZ0",
      "authorship_tag": "ABX9TyOzDx5fQ7MlIMU3p37l4hBe",
      "include_colab_link": true
    },
    "kernelspec": {
      "name": "python3",
      "display_name": "Python 3"
    },
    "language_info": {
      "name": "python"
    },
    "accelerator": "GPU"
  },
  "cells": [
    {
      "cell_type": "markdown",
      "metadata": {
        "id": "view-in-github",
        "colab_type": "text"
      },
      "source": [
        "<a href=\"https://colab.research.google.com/github/TarDeb/Tensorflow/blob/main/pvDetectSSD.ipynb\" target=\"_parent\"><img src=\"https://colab.research.google.com/assets/colab-badge.svg\" alt=\"Open In Colab\"/></a>"
      ]
    },
    {
      "cell_type": "code",
      "execution_count": 1,
      "metadata": {
        "colab": {
          "base_uri": "https://localhost:8080/"
        },
        "id": "2FRb4q84emxN",
        "outputId": "686bd9af-3001-4ff6-918b-e7e576930cee"
      },
      "outputs": [
        {
          "output_type": "stream",
          "name": "stdout",
          "text": [
            "2.13.0\n"
          ]
        }
      ],
      "source": [
        "import os\n",
        "import glob\n",
        "import xml.etree.ElementTree as ET\n",
        "import pandas as pd\n",
        "import tensorflow as tf\n",
        "print(tf.__version__)"
      ]
    },
    {
      "cell_type": "code",
      "source": [
        "from google.colab import drive\n",
        "drive.mount('/content/gdrive')"
      ],
      "metadata": {
        "colab": {
          "base_uri": "https://localhost:8080/"
        },
        "id": "Hzy7VlKhfC-i",
        "outputId": "40074434-1dd9-406d-a83e-6c1eceafa5d8"
      },
      "execution_count": 9,
      "outputs": [
        {
          "output_type": "stream",
          "name": "stdout",
          "text": [
            "Mounted at /content/gdrive\n"
          ]
        }
      ]
    },
    {
      "cell_type": "code",
      "source": [
        "!ln -s /content/gdrive/My\\ Drive/ /mydrive\n",
        "!ls /mydrive\n"
      ],
      "metadata": {
        "colab": {
          "base_uri": "https://localhost:8080/"
        },
        "id": "JWj51R6rfMyJ",
        "outputId": "463ece20-502a-4c91-d2ac-4ff846f0bdfc"
      },
      "execution_count": 4,
      "outputs": [
        {
          "output_type": "stream",
          "name": "stdout",
          "text": [
            " Arbeit  'Colab Notebooks'   DroNow  'Important file'  'Master Arbeit'\t'My Drive'   Tensorflow\n"
          ]
        }
      ]
    },
    {
      "cell_type": "code",
      "source": [
        "# clone the tensorflow models on the colab cloud vm\n",
        "!git clone --q https://github.com/tensorflow/models.git\n",
        "\n",
        "#navigate to /models/research folder to compile protos\n",
        "%cd models/research\n",
        "\n",
        "# Compile protos.\n",
        "!protoc object_detection/protos/*.proto --python_out=.\n",
        "\n",
        "# Install TensorFlow Object Detection API.\n",
        "!cp object_detection/packages/tf2/setup.py .\n",
        "!python -m pip install ."
      ],
      "metadata": {
        "id": "f3KabEoLfdxB"
      },
      "execution_count": null,
      "outputs": []
    },
    {
      "cell_type": "code",
      "source": [
        "!ls"
      ],
      "metadata": {
        "colab": {
          "base_uri": "https://localhost:8080/"
        },
        "id": "wzJvEoxyggjh",
        "outputId": "a4aa986c-3500-4d70-82dc-8367b39656e8"
      },
      "execution_count": 6,
      "outputs": [
        {
          "output_type": "stream",
          "name": "stdout",
          "text": [
            "adversarial_text    cvt_text\t   lstm_object_detection      README.md\n",
            "attention_ocr\t    deeplab\t   marco\t\t      rebar\n",
            "audioset\t    deep_speech    nst_blogpost\t\t      seq_flow_lite\n",
            "autoaugment\t    delf\t   object_detection\t      setup.py\n",
            "build\t\t    efficient-hrl  object_detection.egg-info  slim\n",
            "cognitive_planning  lfads\t   pcl_rl\t\t      vid2depth\n"
          ]
        }
      ]
    },
    {
      "cell_type": "code",
      "source": [
        "!pwd"
      ],
      "metadata": {
        "colab": {
          "base_uri": "https://localhost:8080/"
        },
        "id": "VFeI6ljRghZ_",
        "outputId": "184a0590-861b-49a4-d8ca-cf3f69f093a4"
      },
      "execution_count": 7,
      "outputs": [
        {
          "output_type": "stream",
          "name": "stdout",
          "text": [
            "/content/models/research\n"
          ]
        }
      ]
    },
    {
      "cell_type": "code",
      "source": [
        "!mv models /content/gdrive/MyDrive/Tensorflow/pvDetectSSD_3"
      ],
      "metadata": {
        "colab": {
          "base_uri": "https://localhost:8080/"
        },
        "id": "b4v9X--OgmoL",
        "outputId": "7108f4a1-d772-4524-c9e5-0d2a03badabb"
      },
      "execution_count": 10,
      "outputs": [
        {
          "output_type": "stream",
          "name": "stdout",
          "text": [
            "mv: cannot stat 'models': No such file or directory\n"
          ]
        }
      ]
    },
    {
      "cell_type": "code",
      "source": [
        "!pwd"
      ],
      "metadata": {
        "colab": {
          "base_uri": "https://localhost:8080/"
        },
        "id": "uLi0ITjEhQxb",
        "outputId": "7827ef99-dfb8-4be6-ef21-d02f77999cef"
      },
      "execution_count": 11,
      "outputs": [
        {
          "output_type": "stream",
          "name": "stdout",
          "text": [
            "/content/models/research\n"
          ]
        }
      ]
    },
    {
      "cell_type": "code",
      "source": [
        "%cd .."
      ],
      "metadata": {
        "colab": {
          "base_uri": "https://localhost:8080/"
        },
        "id": "DpEcgckliAPW",
        "outputId": "67cd3d5e-e9fb-446d-a95d-6a0611092e13"
      },
      "execution_count": 12,
      "outputs": [
        {
          "output_type": "stream",
          "name": "stdout",
          "text": [
            "/content/models\n"
          ]
        }
      ]
    },
    {
      "cell_type": "code",
      "source": [
        "%cd .."
      ],
      "metadata": {
        "colab": {
          "base_uri": "https://localhost:8080/"
        },
        "id": "Oc2zGA-NiJIe",
        "outputId": "6e050bb6-9e35-456e-aaf2-e007124a0164"
      },
      "execution_count": 13,
      "outputs": [
        {
          "output_type": "stream",
          "name": "stdout",
          "text": [
            "/content\n"
          ]
        }
      ]
    },
    {
      "cell_type": "code",
      "source": [
        "%cd .."
      ],
      "metadata": {
        "colab": {
          "base_uri": "https://localhost:8080/"
        },
        "id": "r2gOemU9iLsB",
        "outputId": "4869737c-e686-448e-d8d3-2fa714ae9bf0"
      },
      "execution_count": 14,
      "outputs": [
        {
          "output_type": "stream",
          "name": "stdout",
          "text": [
            "/\n"
          ]
        }
      ]
    },
    {
      "cell_type": "code",
      "source": [
        "%cd .."
      ],
      "metadata": {
        "colab": {
          "base_uri": "https://localhost:8080/"
        },
        "id": "WSaa0al5iNlt",
        "outputId": "41ca5adf-a6d8-4dbc-a19d-ef4c20f69f3a"
      },
      "execution_count": 15,
      "outputs": [
        {
          "output_type": "stream",
          "name": "stdout",
          "text": [
            "/\n"
          ]
        }
      ]
    },
    {
      "cell_type": "code",
      "source": [
        "!mv models /content/gdrive/MyDrive/Tensorflow/pvDetectSSD_3"
      ],
      "metadata": {
        "colab": {
          "base_uri": "https://localhost:8080/"
        },
        "id": "9yrz-HyJiPYU",
        "outputId": "0f50a878-3d11-4b2d-fa17-701e9cd906b2"
      },
      "execution_count": 16,
      "outputs": [
        {
          "output_type": "stream",
          "name": "stdout",
          "text": [
            "mv: cannot stat 'models': No such file or directory\n"
          ]
        }
      ]
    },
    {
      "cell_type": "code",
      "source": [
        "%cd /content\n"
      ],
      "metadata": {
        "colab": {
          "base_uri": "https://localhost:8080/"
        },
        "id": "TIajsBNyiYFY",
        "outputId": "95f542b3-1b7f-46e2-880b-92431acb1de0"
      },
      "execution_count": 17,
      "outputs": [
        {
          "output_type": "stream",
          "name": "stdout",
          "text": [
            "/content\n"
          ]
        }
      ]
    },
    {
      "cell_type": "code",
      "source": [
        "!mv models /content/gdrive/MyDrive/Tensorflow/pvDetectSSD_3"
      ],
      "metadata": {
        "id": "1BqG08ZticQi"
      },
      "execution_count": 18,
      "outputs": []
    },
    {
      "cell_type": "code",
      "source": [
        "!pwd"
      ],
      "metadata": {
        "colab": {
          "base_uri": "https://localhost:8080/"
        },
        "id": "aHfRCw8Li97w",
        "outputId": "d6dbd852-f537-4154-8283-0959334c414b"
      },
      "execution_count": 19,
      "outputs": [
        {
          "output_type": "stream",
          "name": "stdout",
          "text": [
            "/content\n"
          ]
        }
      ]
    },
    {
      "cell_type": "code",
      "source": [
        "%cd /content/gdrive/MyDrive/Tensorflow/pvDetectSSD_3"
      ],
      "metadata": {
        "colab": {
          "base_uri": "https://localhost:8080/"
        },
        "id": "fr-mEN9wi9uC",
        "outputId": "c067e0f4-a758-4f98-8877-b195b4365fae"
      },
      "execution_count": 20,
      "outputs": [
        {
          "output_type": "stream",
          "name": "stdout",
          "text": [
            "/content/gdrive/MyDrive/Tensorflow/pvDetectSSD_3\n"
          ]
        }
      ]
    },
    {
      "cell_type": "code",
      "source": [
        "!pwd"
      ],
      "metadata": {
        "colab": {
          "base_uri": "https://localhost:8080/"
        },
        "id": "_1Ryu6lAi9l3",
        "outputId": "2cf525b5-05ef-47ba-96a3-ee288077895a"
      },
      "execution_count": 21,
      "outputs": [
        {
          "output_type": "stream",
          "name": "stdout",
          "text": [
            "/content/gdrive/MyDrive/Tensorflow/pvDetectSSD_3\n"
          ]
        }
      ]
    },
    {
      "cell_type": "code",
      "source": [
        "!python object_detection/builders/model_builder_tf2_test.py"
      ],
      "metadata": {
        "colab": {
          "base_uri": "https://localhost:8080/"
        },
        "id": "jhFUxoeVi9Zb",
        "outputId": "8f0ae6fd-a55e-4866-ab63-bef761bdd288"
      },
      "execution_count": 22,
      "outputs": [
        {
          "output_type": "stream",
          "name": "stdout",
          "text": [
            "python3: can't open file '/content/gdrive/MyDrive/Tensorflow/pvDetectSSD_3/object_detection/builders/model_builder_tf2_test.py': [Errno 2] No such file or directory\n"
          ]
        }
      ]
    },
    {
      "cell_type": "code",
      "source": [
        "%cd models"
      ],
      "metadata": {
        "colab": {
          "base_uri": "https://localhost:8080/"
        },
        "id": "Z6iZQaNUieXo",
        "outputId": "609e9c15-cdae-4077-83df-3a08c42929fb"
      },
      "execution_count": 23,
      "outputs": [
        {
          "output_type": "stream",
          "name": "stdout",
          "text": [
            "/content/gdrive/MyDrive/Tensorflow/pvDetectSSD_3/models\n"
          ]
        }
      ]
    },
    {
      "cell_type": "code",
      "source": [
        "!python object_detection/builders/model_builder_tf2_test.py"
      ],
      "metadata": {
        "colab": {
          "base_uri": "https://localhost:8080/"
        },
        "id": "oZoK-8epkI59",
        "outputId": "9c09e38e-4f04-4216-f7a4-5c2a44b84ae8"
      },
      "execution_count": 24,
      "outputs": [
        {
          "output_type": "stream",
          "name": "stdout",
          "text": [
            "python3: can't open file '/content/gdrive/MyDrive/Tensorflow/pvDetectSSD_3/models/object_detection/builders/model_builder_tf2_test.py': [Errno 2] No such file or directory\n"
          ]
        }
      ]
    },
    {
      "cell_type": "code",
      "source": [
        "!pwd"
      ],
      "metadata": {
        "colab": {
          "base_uri": "https://localhost:8080/"
        },
        "id": "7cx_fa11kRM8",
        "outputId": "8c03ce13-97e1-4c7f-8f4e-d29b5054775b"
      },
      "execution_count": 25,
      "outputs": [
        {
          "output_type": "stream",
          "name": "stdout",
          "text": [
            "/content/gdrive/MyDrive/Tensorflow/pvDetectSSD_3/models\n"
          ]
        }
      ]
    },
    {
      "cell_type": "code",
      "source": [
        "%cd .."
      ],
      "metadata": {
        "id": "AriJoY4dkSXh"
      },
      "execution_count": null,
      "outputs": []
    },
    {
      "cell_type": "code",
      "source": [
        "%cd .."
      ],
      "metadata": {
        "colab": {
          "base_uri": "https://localhost:8080/"
        },
        "id": "ck4HKU7kkh5c",
        "outputId": "8edda037-cde2-4358-ebb5-3edfaa1e1aa7"
      },
      "execution_count": 26,
      "outputs": [
        {
          "output_type": "stream",
          "name": "stdout",
          "text": [
            "/content/gdrive/MyDrive/Tensorflow/pvDetectSSD_3\n"
          ]
        }
      ]
    },
    {
      "cell_type": "code",
      "source": [
        "%cd .."
      ],
      "metadata": {
        "colab": {
          "base_uri": "https://localhost:8080/"
        },
        "id": "J_q2LtuMkifU",
        "outputId": "83adc790-04c5-47d6-f68a-012cb5d38c02"
      },
      "execution_count": 27,
      "outputs": [
        {
          "output_type": "stream",
          "name": "stdout",
          "text": [
            "/content/gdrive/MyDrive/Tensorflow\n"
          ]
        }
      ]
    },
    {
      "cell_type": "code",
      "source": [
        "!python object_detection/builders/model_builder_tf2_test.py"
      ],
      "metadata": {
        "colab": {
          "base_uri": "https://localhost:8080/"
        },
        "id": "RG8pYer5kjah",
        "outputId": "c71c5e76-2788-4b4b-963a-ba91dc1c7c32"
      },
      "execution_count": 28,
      "outputs": [
        {
          "output_type": "stream",
          "name": "stdout",
          "text": [
            "python3: can't open file '/content/gdrive/MyDrive/Tensorflow/object_detection/builders/model_builder_tf2_test.py': [Errno 2] No such file or directory\n"
          ]
        }
      ]
    },
    {
      "cell_type": "code",
      "source": [
        "%cd /content/gdrive/MyDrive/Tensorflow/pvDetectSSD_3/models/research"
      ],
      "metadata": {
        "colab": {
          "base_uri": "https://localhost:8080/"
        },
        "id": "hWXdeiInkmF3",
        "outputId": "609145ec-9a5c-4409-dfe2-9747c9c064b0"
      },
      "execution_count": 29,
      "outputs": [
        {
          "output_type": "stream",
          "name": "stdout",
          "text": [
            "/content/gdrive/MyDrive/Tensorflow/pvDetectSSD_3/models/research\n"
          ]
        }
      ]
    },
    {
      "cell_type": "code",
      "source": [
        "!pwd"
      ],
      "metadata": {
        "colab": {
          "base_uri": "https://localhost:8080/"
        },
        "id": "84c5otoCkvk1",
        "outputId": "38d884b0-a20b-410b-cf59-c67372da3d96"
      },
      "execution_count": 30,
      "outputs": [
        {
          "output_type": "stream",
          "name": "stdout",
          "text": [
            "/content/gdrive/MyDrive/Tensorflow/pvDetectSSD_3/models/research\n"
          ]
        }
      ]
    },
    {
      "cell_type": "code",
      "source": [
        "!python object_detection/builders/model_builder_tf2_test.py"
      ],
      "metadata": {
        "colab": {
          "base_uri": "https://localhost:8080/"
        },
        "id": "Nk9z2MRmk0ra",
        "outputId": "bc8b994a-3430-4bcf-e126-1c7dcff55bba"
      },
      "execution_count": 31,
      "outputs": [
        {
          "output_type": "stream",
          "name": "stdout",
          "text": [
            "2023-10-21 14:11:12.002059: E tensorflow/compiler/xla/stream_executor/cuda/cuda_dnn.cc:9342] Unable to register cuDNN factory: Attempting to register factory for plugin cuDNN when one has already been registered\n",
            "2023-10-21 14:11:12.002109: E tensorflow/compiler/xla/stream_executor/cuda/cuda_fft.cc:609] Unable to register cuFFT factory: Attempting to register factory for plugin cuFFT when one has already been registered\n",
            "2023-10-21 14:11:12.002165: E tensorflow/compiler/xla/stream_executor/cuda/cuda_blas.cc:1518] Unable to register cuBLAS factory: Attempting to register factory for plugin cuBLAS when one has already been registered\n",
            "2023-10-21 14:11:13.100553: W tensorflow/compiler/tf2tensorrt/utils/py_utils.cc:38] TF-TRT Warning: Could not find TensorRT\n",
            "Running tests under Python 3.10.12: /usr/bin/python3\n",
            "[ RUN      ] ModelBuilderTF2Test.test_create_center_net_deepmac\n",
            "2023-10-21 14:11:18.032873: W tensorflow/core/common_runtime/gpu/gpu_bfc_allocator.cc:47] Overriding orig_value setting because the TF_FORCE_GPU_ALLOW_GROWTH environment variable is set. Original config value was 0.\n",
            "WARNING:tensorflow:`tf.keras.layers.experimental.SyncBatchNormalization` endpoint is deprecated and will be removed in a future release. Please use `tf.keras.layers.BatchNormalization` with parameter `synchronized` set to True.\n",
            "W1021 14:11:18.062573 135435016741504 batch_normalization.py:1531] `tf.keras.layers.experimental.SyncBatchNormalization` endpoint is deprecated and will be removed in a future release. Please use `tf.keras.layers.BatchNormalization` with parameter `synchronized` set to True.\n",
            "W1021 14:11:18.510737 135435016741504 model_builder.py:1112] Building experimental DeepMAC meta-arch. Some features may be omitted.\n",
            "INFO:tensorflow:time(__main__.ModelBuilderTF2Test.test_create_center_net_deepmac): 1.9s\n",
            "I1021 14:11:18.835639 135435016741504 test_util.py:2472] time(__main__.ModelBuilderTF2Test.test_create_center_net_deepmac): 1.9s\n",
            "[       OK ] ModelBuilderTF2Test.test_create_center_net_deepmac\n",
            "[ RUN      ] ModelBuilderTF2Test.test_create_center_net_model0 (customize_head_params=True)\n",
            "INFO:tensorflow:time(__main__.ModelBuilderTF2Test.test_create_center_net_model0 (customize_head_params=True)): 0.61s\n",
            "I1021 14:11:19.444693 135435016741504 test_util.py:2472] time(__main__.ModelBuilderTF2Test.test_create_center_net_model0 (customize_head_params=True)): 0.61s\n",
            "[       OK ] ModelBuilderTF2Test.test_create_center_net_model0 (customize_head_params=True)\n",
            "[ RUN      ] ModelBuilderTF2Test.test_create_center_net_model1 (customize_head_params=False)\n",
            "INFO:tensorflow:time(__main__.ModelBuilderTF2Test.test_create_center_net_model1 (customize_head_params=False)): 0.32s\n",
            "I1021 14:11:19.765843 135435016741504 test_util.py:2472] time(__main__.ModelBuilderTF2Test.test_create_center_net_model1 (customize_head_params=False)): 0.32s\n",
            "[       OK ] ModelBuilderTF2Test.test_create_center_net_model1 (customize_head_params=False)\n",
            "[ RUN      ] ModelBuilderTF2Test.test_create_center_net_model_from_keypoints\n",
            "INFO:tensorflow:time(__main__.ModelBuilderTF2Test.test_create_center_net_model_from_keypoints): 0.33s\n",
            "I1021 14:11:20.093961 135435016741504 test_util.py:2472] time(__main__.ModelBuilderTF2Test.test_create_center_net_model_from_keypoints): 0.33s\n",
            "[       OK ] ModelBuilderTF2Test.test_create_center_net_model_from_keypoints\n",
            "[ RUN      ] ModelBuilderTF2Test.test_create_center_net_model_mobilenet\n",
            "INFO:tensorflow:time(__main__.ModelBuilderTF2Test.test_create_center_net_model_mobilenet): 2.78s\n",
            "I1021 14:11:22.871403 135435016741504 test_util.py:2472] time(__main__.ModelBuilderTF2Test.test_create_center_net_model_mobilenet): 2.78s\n",
            "[       OK ] ModelBuilderTF2Test.test_create_center_net_model_mobilenet\n",
            "[ RUN      ] ModelBuilderTF2Test.test_create_experimental_model\n",
            "INFO:tensorflow:time(__main__.ModelBuilderTF2Test.test_create_experimental_model): 0.0s\n",
            "I1021 14:11:22.880378 135435016741504 test_util.py:2472] time(__main__.ModelBuilderTF2Test.test_create_experimental_model): 0.0s\n",
            "[       OK ] ModelBuilderTF2Test.test_create_experimental_model\n",
            "[ RUN      ] ModelBuilderTF2Test.test_create_faster_rcnn_from_config_with_crop_feature0 (True)\n",
            "INFO:tensorflow:time(__main__.ModelBuilderTF2Test.test_create_faster_rcnn_from_config_with_crop_feature0 (True)): 0.04s\n",
            "I1021 14:11:22.921281 135435016741504 test_util.py:2472] time(__main__.ModelBuilderTF2Test.test_create_faster_rcnn_from_config_with_crop_feature0 (True)): 0.04s\n",
            "[       OK ] ModelBuilderTF2Test.test_create_faster_rcnn_from_config_with_crop_feature0 (True)\n",
            "[ RUN      ] ModelBuilderTF2Test.test_create_faster_rcnn_from_config_with_crop_feature1 (False)\n",
            "INFO:tensorflow:time(__main__.ModelBuilderTF2Test.test_create_faster_rcnn_from_config_with_crop_feature1 (False)): 0.03s\n",
            "I1021 14:11:22.948397 135435016741504 test_util.py:2472] time(__main__.ModelBuilderTF2Test.test_create_faster_rcnn_from_config_with_crop_feature1 (False)): 0.03s\n",
            "[       OK ] ModelBuilderTF2Test.test_create_faster_rcnn_from_config_with_crop_feature1 (False)\n",
            "[ RUN      ] ModelBuilderTF2Test.test_create_faster_rcnn_model_from_config_with_example_miner\n",
            "INFO:tensorflow:time(__main__.ModelBuilderTF2Test.test_create_faster_rcnn_model_from_config_with_example_miner): 0.03s\n",
            "I1021 14:11:22.976627 135435016741504 test_util.py:2472] time(__main__.ModelBuilderTF2Test.test_create_faster_rcnn_model_from_config_with_example_miner): 0.03s\n",
            "[       OK ] ModelBuilderTF2Test.test_create_faster_rcnn_model_from_config_with_example_miner\n",
            "[ RUN      ] ModelBuilderTF2Test.test_create_faster_rcnn_models_from_config_faster_rcnn_with_matmul\n",
            "INFO:tensorflow:time(__main__.ModelBuilderTF2Test.test_create_faster_rcnn_models_from_config_faster_rcnn_with_matmul): 0.17s\n",
            "I1021 14:11:23.150719 135435016741504 test_util.py:2472] time(__main__.ModelBuilderTF2Test.test_create_faster_rcnn_models_from_config_faster_rcnn_with_matmul): 0.17s\n",
            "[       OK ] ModelBuilderTF2Test.test_create_faster_rcnn_models_from_config_faster_rcnn_with_matmul\n",
            "[ RUN      ] ModelBuilderTF2Test.test_create_faster_rcnn_models_from_config_faster_rcnn_without_matmul\n",
            "INFO:tensorflow:time(__main__.ModelBuilderTF2Test.test_create_faster_rcnn_models_from_config_faster_rcnn_without_matmul): 0.16s\n",
            "I1021 14:11:23.312019 135435016741504 test_util.py:2472] time(__main__.ModelBuilderTF2Test.test_create_faster_rcnn_models_from_config_faster_rcnn_without_matmul): 0.16s\n",
            "[       OK ] ModelBuilderTF2Test.test_create_faster_rcnn_models_from_config_faster_rcnn_without_matmul\n",
            "[ RUN      ] ModelBuilderTF2Test.test_create_faster_rcnn_models_from_config_mask_rcnn_with_matmul\n",
            "INFO:tensorflow:time(__main__.ModelBuilderTF2Test.test_create_faster_rcnn_models_from_config_mask_rcnn_with_matmul): 0.18s\n",
            "I1021 14:11:23.490825 135435016741504 test_util.py:2472] time(__main__.ModelBuilderTF2Test.test_create_faster_rcnn_models_from_config_mask_rcnn_with_matmul): 0.18s\n",
            "[       OK ] ModelBuilderTF2Test.test_create_faster_rcnn_models_from_config_mask_rcnn_with_matmul\n",
            "[ RUN      ] ModelBuilderTF2Test.test_create_faster_rcnn_models_from_config_mask_rcnn_without_matmul\n",
            "INFO:tensorflow:time(__main__.ModelBuilderTF2Test.test_create_faster_rcnn_models_from_config_mask_rcnn_without_matmul): 0.18s\n",
            "I1021 14:11:23.675646 135435016741504 test_util.py:2472] time(__main__.ModelBuilderTF2Test.test_create_faster_rcnn_models_from_config_mask_rcnn_without_matmul): 0.18s\n",
            "[       OK ] ModelBuilderTF2Test.test_create_faster_rcnn_models_from_config_mask_rcnn_without_matmul\n",
            "[ RUN      ] ModelBuilderTF2Test.test_create_rfcn_model_from_config\n",
            "INFO:tensorflow:time(__main__.ModelBuilderTF2Test.test_create_rfcn_model_from_config): 0.18s\n",
            "I1021 14:11:23.860516 135435016741504 test_util.py:2472] time(__main__.ModelBuilderTF2Test.test_create_rfcn_model_from_config): 0.18s\n",
            "[       OK ] ModelBuilderTF2Test.test_create_rfcn_model_from_config\n",
            "[ RUN      ] ModelBuilderTF2Test.test_create_ssd_fpn_model_from_config\n",
            "INFO:tensorflow:time(__main__.ModelBuilderTF2Test.test_create_ssd_fpn_model_from_config): 0.05s\n",
            "I1021 14:11:23.915770 135435016741504 test_util.py:2472] time(__main__.ModelBuilderTF2Test.test_create_ssd_fpn_model_from_config): 0.05s\n",
            "[       OK ] ModelBuilderTF2Test.test_create_ssd_fpn_model_from_config\n",
            "[ RUN      ] ModelBuilderTF2Test.test_create_ssd_models_from_config\n",
            "I1021 14:11:24.237715 135435016741504 ssd_efficientnet_bifpn_feature_extractor.py:161] EfficientDet EfficientNet backbone version: efficientnet-b0\n",
            "I1021 14:11:24.237920 135435016741504 ssd_efficientnet_bifpn_feature_extractor.py:163] EfficientDet BiFPN num filters: 64\n",
            "I1021 14:11:24.238000 135435016741504 ssd_efficientnet_bifpn_feature_extractor.py:164] EfficientDet BiFPN num iterations: 3\n",
            "I1021 14:11:24.241928 135435016741504 efficientnet_model.py:143] round_filter input=32 output=32\n",
            "I1021 14:11:24.286418 135435016741504 efficientnet_model.py:143] round_filter input=32 output=32\n",
            "I1021 14:11:24.286581 135435016741504 efficientnet_model.py:143] round_filter input=16 output=16\n",
            "I1021 14:11:24.404333 135435016741504 efficientnet_model.py:143] round_filter input=16 output=16\n",
            "I1021 14:11:24.404526 135435016741504 efficientnet_model.py:143] round_filter input=24 output=24\n",
            "I1021 14:11:24.713188 135435016741504 efficientnet_model.py:143] round_filter input=24 output=24\n",
            "I1021 14:11:24.713368 135435016741504 efficientnet_model.py:143] round_filter input=40 output=40\n",
            "I1021 14:11:25.007386 135435016741504 efficientnet_model.py:143] round_filter input=40 output=40\n",
            "I1021 14:11:25.008354 135435016741504 efficientnet_model.py:143] round_filter input=80 output=80\n",
            "I1021 14:11:25.458982 135435016741504 efficientnet_model.py:143] round_filter input=80 output=80\n",
            "I1021 14:11:25.459181 135435016741504 efficientnet_model.py:143] round_filter input=112 output=112\n",
            "I1021 14:11:25.890947 135435016741504 efficientnet_model.py:143] round_filter input=112 output=112\n",
            "I1021 14:11:25.891160 135435016741504 efficientnet_model.py:143] round_filter input=192 output=192\n",
            "I1021 14:11:26.483079 135435016741504 efficientnet_model.py:143] round_filter input=192 output=192\n",
            "I1021 14:11:26.483293 135435016741504 efficientnet_model.py:143] round_filter input=320 output=320\n",
            "I1021 14:11:26.637814 135435016741504 efficientnet_model.py:143] round_filter input=1280 output=1280\n",
            "I1021 14:11:26.720311 135435016741504 efficientnet_model.py:453] Building model efficientnet with params ModelConfig(width_coefficient=1.0, depth_coefficient=1.0, resolution=224, dropout_rate=0.2, blocks=(BlockConfig(input_filters=32, output_filters=16, kernel_size=3, num_repeat=1, expand_ratio=1, strides=(1, 1), se_ratio=0.25, id_skip=True, fused_conv=False, conv_type='depthwise'), BlockConfig(input_filters=16, output_filters=24, kernel_size=3, num_repeat=2, expand_ratio=6, strides=(2, 2), se_ratio=0.25, id_skip=True, fused_conv=False, conv_type='depthwise'), BlockConfig(input_filters=24, output_filters=40, kernel_size=5, num_repeat=2, expand_ratio=6, strides=(2, 2), se_ratio=0.25, id_skip=True, fused_conv=False, conv_type='depthwise'), BlockConfig(input_filters=40, output_filters=80, kernel_size=3, num_repeat=3, expand_ratio=6, strides=(2, 2), se_ratio=0.25, id_skip=True, fused_conv=False, conv_type='depthwise'), BlockConfig(input_filters=80, output_filters=112, kernel_size=5, num_repeat=3, expand_ratio=6, strides=(1, 1), se_ratio=0.25, id_skip=True, fused_conv=False, conv_type='depthwise'), BlockConfig(input_filters=112, output_filters=192, kernel_size=5, num_repeat=4, expand_ratio=6, strides=(2, 2), se_ratio=0.25, id_skip=True, fused_conv=False, conv_type='depthwise'), BlockConfig(input_filters=192, output_filters=320, kernel_size=3, num_repeat=1, expand_ratio=6, strides=(1, 1), se_ratio=0.25, id_skip=True, fused_conv=False, conv_type='depthwise')), stem_base_filters=32, top_base_filters=1280, activation='simple_swish', batch_norm='default', bn_momentum=0.99, bn_epsilon=0.001, weight_decay=5e-06, drop_connect_rate=0.2, depth_divisor=8, min_depth=None, use_se=True, input_channels=3, num_classes=1000, model_name='efficientnet', rescale_input=False, data_format='channels_last', dtype='float32')\n",
            "I1021 14:11:26.815899 135435016741504 ssd_efficientnet_bifpn_feature_extractor.py:161] EfficientDet EfficientNet backbone version: efficientnet-b1\n",
            "I1021 14:11:26.816107 135435016741504 ssd_efficientnet_bifpn_feature_extractor.py:163] EfficientDet BiFPN num filters: 88\n",
            "I1021 14:11:26.816198 135435016741504 ssd_efficientnet_bifpn_feature_extractor.py:164] EfficientDet BiFPN num iterations: 4\n",
            "I1021 14:11:26.819314 135435016741504 efficientnet_model.py:143] round_filter input=32 output=32\n",
            "I1021 14:11:26.847667 135435016741504 efficientnet_model.py:143] round_filter input=32 output=32\n",
            "I1021 14:11:26.847849 135435016741504 efficientnet_model.py:143] round_filter input=16 output=16\n",
            "I1021 14:11:27.085130 135435016741504 efficientnet_model.py:143] round_filter input=16 output=16\n",
            "I1021 14:11:27.085335 135435016741504 efficientnet_model.py:143] round_filter input=24 output=24\n",
            "I1021 14:11:27.527848 135435016741504 efficientnet_model.py:143] round_filter input=24 output=24\n",
            "I1021 14:11:27.528054 135435016741504 efficientnet_model.py:143] round_filter input=40 output=40\n",
            "I1021 14:11:27.955291 135435016741504 efficientnet_model.py:143] round_filter input=40 output=40\n",
            "I1021 14:11:27.955515 135435016741504 efficientnet_model.py:143] round_filter input=80 output=80\n",
            "I1021 14:11:28.561366 135435016741504 efficientnet_model.py:143] round_filter input=80 output=80\n",
            "I1021 14:11:28.561586 135435016741504 efficientnet_model.py:143] round_filter input=112 output=112\n",
            "I1021 14:11:29.412190 135435016741504 efficientnet_model.py:143] round_filter input=112 output=112\n",
            "I1021 14:11:29.412421 135435016741504 efficientnet_model.py:143] round_filter input=192 output=192\n",
            "I1021 14:11:30.214296 135435016741504 efficientnet_model.py:143] round_filter input=192 output=192\n",
            "I1021 14:11:30.214527 135435016741504 efficientnet_model.py:143] round_filter input=320 output=320\n",
            "I1021 14:11:30.553156 135435016741504 efficientnet_model.py:143] round_filter input=1280 output=1280\n",
            "I1021 14:11:30.608708 135435016741504 efficientnet_model.py:453] Building model efficientnet with params ModelConfig(width_coefficient=1.0, depth_coefficient=1.1, resolution=240, dropout_rate=0.2, blocks=(BlockConfig(input_filters=32, output_filters=16, kernel_size=3, num_repeat=1, expand_ratio=1, strides=(1, 1), se_ratio=0.25, id_skip=True, fused_conv=False, conv_type='depthwise'), BlockConfig(input_filters=16, output_filters=24, kernel_size=3, num_repeat=2, expand_ratio=6, strides=(2, 2), se_ratio=0.25, id_skip=True, fused_conv=False, conv_type='depthwise'), BlockConfig(input_filters=24, output_filters=40, kernel_size=5, num_repeat=2, expand_ratio=6, strides=(2, 2), se_ratio=0.25, id_skip=True, fused_conv=False, conv_type='depthwise'), BlockConfig(input_filters=40, output_filters=80, kernel_size=3, num_repeat=3, expand_ratio=6, strides=(2, 2), se_ratio=0.25, id_skip=True, fused_conv=False, conv_type='depthwise'), BlockConfig(input_filters=80, output_filters=112, kernel_size=5, num_repeat=3, expand_ratio=6, strides=(1, 1), se_ratio=0.25, id_skip=True, fused_conv=False, conv_type='depthwise'), BlockConfig(input_filters=112, output_filters=192, kernel_size=5, num_repeat=4, expand_ratio=6, strides=(2, 2), se_ratio=0.25, id_skip=True, fused_conv=False, conv_type='depthwise'), BlockConfig(input_filters=192, output_filters=320, kernel_size=3, num_repeat=1, expand_ratio=6, strides=(1, 1), se_ratio=0.25, id_skip=True, fused_conv=False, conv_type='depthwise')), stem_base_filters=32, top_base_filters=1280, activation='simple_swish', batch_norm='default', bn_momentum=0.99, bn_epsilon=0.001, weight_decay=5e-06, drop_connect_rate=0.2, depth_divisor=8, min_depth=None, use_se=True, input_channels=3, num_classes=1000, model_name='efficientnet', rescale_input=False, data_format='channels_last', dtype='float32')\n",
            "I1021 14:11:30.725524 135435016741504 ssd_efficientnet_bifpn_feature_extractor.py:161] EfficientDet EfficientNet backbone version: efficientnet-b2\n",
            "I1021 14:11:30.725727 135435016741504 ssd_efficientnet_bifpn_feature_extractor.py:163] EfficientDet BiFPN num filters: 112\n",
            "I1021 14:11:30.725824 135435016741504 ssd_efficientnet_bifpn_feature_extractor.py:164] EfficientDet BiFPN num iterations: 5\n",
            "I1021 14:11:30.729297 135435016741504 efficientnet_model.py:143] round_filter input=32 output=32\n",
            "I1021 14:11:30.758757 135435016741504 efficientnet_model.py:143] round_filter input=32 output=32\n",
            "I1021 14:11:30.759062 135435016741504 efficientnet_model.py:143] round_filter input=16 output=16\n",
            "I1021 14:11:30.983384 135435016741504 efficientnet_model.py:143] round_filter input=16 output=16\n",
            "I1021 14:11:30.983623 135435016741504 efficientnet_model.py:143] round_filter input=24 output=24\n",
            "I1021 14:11:31.397414 135435016741504 efficientnet_model.py:143] round_filter input=24 output=24\n",
            "I1021 14:11:31.397633 135435016741504 efficientnet_model.py:143] round_filter input=40 output=48\n",
            "I1021 14:11:31.712340 135435016741504 efficientnet_model.py:143] round_filter input=40 output=48\n",
            "I1021 14:11:31.712524 135435016741504 efficientnet_model.py:143] round_filter input=80 output=88\n",
            "I1021 14:11:32.109781 135435016741504 efficientnet_model.py:143] round_filter input=80 output=88\n",
            "I1021 14:11:32.109958 135435016741504 efficientnet_model.py:143] round_filter input=112 output=120\n",
            "I1021 14:11:32.482505 135435016741504 efficientnet_model.py:143] round_filter input=112 output=120\n",
            "I1021 14:11:32.482672 135435016741504 efficientnet_model.py:143] round_filter input=192 output=208\n",
            "I1021 14:11:32.940624 135435016741504 efficientnet_model.py:143] round_filter input=192 output=208\n",
            "I1021 14:11:32.940783 135435016741504 efficientnet_model.py:143] round_filter input=320 output=352\n",
            "I1021 14:11:33.129163 135435016741504 efficientnet_model.py:143] round_filter input=1280 output=1408\n",
            "I1021 14:11:33.167222 135435016741504 efficientnet_model.py:453] Building model efficientnet with params ModelConfig(width_coefficient=1.1, depth_coefficient=1.2, resolution=260, dropout_rate=0.3, blocks=(BlockConfig(input_filters=32, output_filters=16, kernel_size=3, num_repeat=1, expand_ratio=1, strides=(1, 1), se_ratio=0.25, id_skip=True, fused_conv=False, conv_type='depthwise'), BlockConfig(input_filters=16, output_filters=24, kernel_size=3, num_repeat=2, expand_ratio=6, strides=(2, 2), se_ratio=0.25, id_skip=True, fused_conv=False, conv_type='depthwise'), BlockConfig(input_filters=24, output_filters=40, kernel_size=5, num_repeat=2, expand_ratio=6, strides=(2, 2), se_ratio=0.25, id_skip=True, fused_conv=False, conv_type='depthwise'), BlockConfig(input_filters=40, output_filters=80, kernel_size=3, num_repeat=3, expand_ratio=6, strides=(2, 2), se_ratio=0.25, id_skip=True, fused_conv=False, conv_type='depthwise'), BlockConfig(input_filters=80, output_filters=112, kernel_size=5, num_repeat=3, expand_ratio=6, strides=(1, 1), se_ratio=0.25, id_skip=True, fused_conv=False, conv_type='depthwise'), BlockConfig(input_filters=112, output_filters=192, kernel_size=5, num_repeat=4, expand_ratio=6, strides=(2, 2), se_ratio=0.25, id_skip=True, fused_conv=False, conv_type='depthwise'), BlockConfig(input_filters=192, output_filters=320, kernel_size=3, num_repeat=1, expand_ratio=6, strides=(1, 1), se_ratio=0.25, id_skip=True, fused_conv=False, conv_type='depthwise')), stem_base_filters=32, top_base_filters=1280, activation='simple_swish', batch_norm='default', bn_momentum=0.99, bn_epsilon=0.001, weight_decay=5e-06, drop_connect_rate=0.2, depth_divisor=8, min_depth=None, use_se=True, input_channels=3, num_classes=1000, model_name='efficientnet', rescale_input=False, data_format='channels_last', dtype='float32')\n",
            "I1021 14:11:33.233032 135435016741504 ssd_efficientnet_bifpn_feature_extractor.py:161] EfficientDet EfficientNet backbone version: efficientnet-b3\n",
            "I1021 14:11:33.233171 135435016741504 ssd_efficientnet_bifpn_feature_extractor.py:163] EfficientDet BiFPN num filters: 160\n",
            "I1021 14:11:33.233247 135435016741504 ssd_efficientnet_bifpn_feature_extractor.py:164] EfficientDet BiFPN num iterations: 6\n",
            "I1021 14:11:33.235065 135435016741504 efficientnet_model.py:143] round_filter input=32 output=40\n",
            "I1021 14:11:33.254922 135435016741504 efficientnet_model.py:143] round_filter input=32 output=40\n",
            "I1021 14:11:33.255034 135435016741504 efficientnet_model.py:143] round_filter input=16 output=24\n",
            "I1021 14:11:33.410099 135435016741504 efficientnet_model.py:143] round_filter input=16 output=24\n",
            "I1021 14:11:33.410243 135435016741504 efficientnet_model.py:143] round_filter input=24 output=32\n",
            "I1021 14:11:33.689897 135435016741504 efficientnet_model.py:143] round_filter input=24 output=32\n",
            "I1021 14:11:33.690091 135435016741504 efficientnet_model.py:143] round_filter input=40 output=48\n",
            "I1021 14:11:33.970658 135435016741504 efficientnet_model.py:143] round_filter input=40 output=48\n",
            "I1021 14:11:33.970823 135435016741504 efficientnet_model.py:143] round_filter input=80 output=96\n",
            "I1021 14:11:34.432459 135435016741504 efficientnet_model.py:143] round_filter input=80 output=96\n",
            "I1021 14:11:34.432637 135435016741504 efficientnet_model.py:143] round_filter input=112 output=136\n",
            "I1021 14:11:34.900136 135435016741504 efficientnet_model.py:143] round_filter input=112 output=136\n",
            "I1021 14:11:34.900305 135435016741504 efficientnet_model.py:143] round_filter input=192 output=232\n",
            "I1021 14:11:35.452208 135435016741504 efficientnet_model.py:143] round_filter input=192 output=232\n",
            "I1021 14:11:35.452381 135435016741504 efficientnet_model.py:143] round_filter input=320 output=384\n",
            "I1021 14:11:35.639115 135435016741504 efficientnet_model.py:143] round_filter input=1280 output=1536\n",
            "I1021 14:11:35.675567 135435016741504 efficientnet_model.py:453] Building model efficientnet with params ModelConfig(width_coefficient=1.2, depth_coefficient=1.4, resolution=300, dropout_rate=0.3, blocks=(BlockConfig(input_filters=32, output_filters=16, kernel_size=3, num_repeat=1, expand_ratio=1, strides=(1, 1), se_ratio=0.25, id_skip=True, fused_conv=False, conv_type='depthwise'), BlockConfig(input_filters=16, output_filters=24, kernel_size=3, num_repeat=2, expand_ratio=6, strides=(2, 2), se_ratio=0.25, id_skip=True, fused_conv=False, conv_type='depthwise'), BlockConfig(input_filters=24, output_filters=40, kernel_size=5, num_repeat=2, expand_ratio=6, strides=(2, 2), se_ratio=0.25, id_skip=True, fused_conv=False, conv_type='depthwise'), BlockConfig(input_filters=40, output_filters=80, kernel_size=3, num_repeat=3, expand_ratio=6, strides=(2, 2), se_ratio=0.25, id_skip=True, fused_conv=False, conv_type='depthwise'), BlockConfig(input_filters=80, output_filters=112, kernel_size=5, num_repeat=3, expand_ratio=6, strides=(1, 1), se_ratio=0.25, id_skip=True, fused_conv=False, conv_type='depthwise'), BlockConfig(input_filters=112, output_filters=192, kernel_size=5, num_repeat=4, expand_ratio=6, strides=(2, 2), se_ratio=0.25, id_skip=True, fused_conv=False, conv_type='depthwise'), BlockConfig(input_filters=192, output_filters=320, kernel_size=3, num_repeat=1, expand_ratio=6, strides=(1, 1), se_ratio=0.25, id_skip=True, fused_conv=False, conv_type='depthwise')), stem_base_filters=32, top_base_filters=1280, activation='simple_swish', batch_norm='default', bn_momentum=0.99, bn_epsilon=0.001, weight_decay=5e-06, drop_connect_rate=0.2, depth_divisor=8, min_depth=None, use_se=True, input_channels=3, num_classes=1000, model_name='efficientnet', rescale_input=False, data_format='channels_last', dtype='float32')\n",
            "I1021 14:11:35.749690 135435016741504 ssd_efficientnet_bifpn_feature_extractor.py:161] EfficientDet EfficientNet backbone version: efficientnet-b4\n",
            "I1021 14:11:35.749826 135435016741504 ssd_efficientnet_bifpn_feature_extractor.py:163] EfficientDet BiFPN num filters: 224\n",
            "I1021 14:11:35.749903 135435016741504 ssd_efficientnet_bifpn_feature_extractor.py:164] EfficientDet BiFPN num iterations: 7\n",
            "I1021 14:11:35.751746 135435016741504 efficientnet_model.py:143] round_filter input=32 output=48\n",
            "I1021 14:11:35.770743 135435016741504 efficientnet_model.py:143] round_filter input=32 output=48\n",
            "I1021 14:11:35.770878 135435016741504 efficientnet_model.py:143] round_filter input=16 output=24\n",
            "I1021 14:11:35.921007 135435016741504 efficientnet_model.py:143] round_filter input=16 output=24\n",
            "I1021 14:11:35.921163 135435016741504 efficientnet_model.py:143] round_filter input=24 output=32\n",
            "I1021 14:11:36.268981 135435016741504 efficientnet_model.py:143] round_filter input=24 output=32\n",
            "I1021 14:11:36.269140 135435016741504 efficientnet_model.py:143] round_filter input=40 output=56\n",
            "I1021 14:11:36.660922 135435016741504 efficientnet_model.py:143] round_filter input=40 output=56\n",
            "I1021 14:11:36.661082 135435016741504 efficientnet_model.py:143] round_filter input=80 output=112\n",
            "I1021 14:11:37.203261 135435016741504 efficientnet_model.py:143] round_filter input=80 output=112\n",
            "I1021 14:11:37.203443 135435016741504 efficientnet_model.py:143] round_filter input=112 output=160\n",
            "I1021 14:11:38.037794 135435016741504 efficientnet_model.py:143] round_filter input=112 output=160\n",
            "I1021 14:11:38.037958 135435016741504 efficientnet_model.py:143] round_filter input=192 output=272\n",
            "I1021 14:11:38.779036 135435016741504 efficientnet_model.py:143] round_filter input=192 output=272\n",
            "I1021 14:11:38.779197 135435016741504 efficientnet_model.py:143] round_filter input=320 output=448\n",
            "I1021 14:11:38.973644 135435016741504 efficientnet_model.py:143] round_filter input=1280 output=1792\n",
            "I1021 14:11:39.013139 135435016741504 efficientnet_model.py:453] Building model efficientnet with params ModelConfig(width_coefficient=1.4, depth_coefficient=1.8, resolution=380, dropout_rate=0.4, blocks=(BlockConfig(input_filters=32, output_filters=16, kernel_size=3, num_repeat=1, expand_ratio=1, strides=(1, 1), se_ratio=0.25, id_skip=True, fused_conv=False, conv_type='depthwise'), BlockConfig(input_filters=16, output_filters=24, kernel_size=3, num_repeat=2, expand_ratio=6, strides=(2, 2), se_ratio=0.25, id_skip=True, fused_conv=False, conv_type='depthwise'), BlockConfig(input_filters=24, output_filters=40, kernel_size=5, num_repeat=2, expand_ratio=6, strides=(2, 2), se_ratio=0.25, id_skip=True, fused_conv=False, conv_type='depthwise'), BlockConfig(input_filters=40, output_filters=80, kernel_size=3, num_repeat=3, expand_ratio=6, strides=(2, 2), se_ratio=0.25, id_skip=True, fused_conv=False, conv_type='depthwise'), BlockConfig(input_filters=80, output_filters=112, kernel_size=5, num_repeat=3, expand_ratio=6, strides=(1, 1), se_ratio=0.25, id_skip=True, fused_conv=False, conv_type='depthwise'), BlockConfig(input_filters=112, output_filters=192, kernel_size=5, num_repeat=4, expand_ratio=6, strides=(2, 2), se_ratio=0.25, id_skip=True, fused_conv=False, conv_type='depthwise'), BlockConfig(input_filters=192, output_filters=320, kernel_size=3, num_repeat=1, expand_ratio=6, strides=(1, 1), se_ratio=0.25, id_skip=True, fused_conv=False, conv_type='depthwise')), stem_base_filters=32, top_base_filters=1280, activation='simple_swish', batch_norm='default', bn_momentum=0.99, bn_epsilon=0.001, weight_decay=5e-06, drop_connect_rate=0.2, depth_divisor=8, min_depth=None, use_se=True, input_channels=3, num_classes=1000, model_name='efficientnet', rescale_input=False, data_format='channels_last', dtype='float32')\n",
            "I1021 14:11:39.098870 135435016741504 ssd_efficientnet_bifpn_feature_extractor.py:161] EfficientDet EfficientNet backbone version: efficientnet-b5\n",
            "I1021 14:11:39.099026 135435016741504 ssd_efficientnet_bifpn_feature_extractor.py:163] EfficientDet BiFPN num filters: 288\n",
            "I1021 14:11:39.099098 135435016741504 ssd_efficientnet_bifpn_feature_extractor.py:164] EfficientDet BiFPN num iterations: 7\n",
            "I1021 14:11:39.101106 135435016741504 efficientnet_model.py:143] round_filter input=32 output=48\n",
            "I1021 14:11:39.121043 135435016741504 efficientnet_model.py:143] round_filter input=32 output=48\n",
            "I1021 14:11:39.121157 135435016741504 efficientnet_model.py:143] round_filter input=16 output=24\n",
            "I1021 14:11:39.337230 135435016741504 efficientnet_model.py:143] round_filter input=16 output=24\n",
            "I1021 14:11:39.337393 135435016741504 efficientnet_model.py:143] round_filter input=24 output=40\n",
            "I1021 14:11:39.798304 135435016741504 efficientnet_model.py:143] round_filter input=24 output=40\n",
            "I1021 14:11:39.798484 135435016741504 efficientnet_model.py:143] round_filter input=40 output=64\n",
            "I1021 14:11:40.271322 135435016741504 efficientnet_model.py:143] round_filter input=40 output=64\n",
            "I1021 14:11:40.271514 135435016741504 efficientnet_model.py:143] round_filter input=80 output=128\n",
            "I1021 14:11:40.936971 135435016741504 efficientnet_model.py:143] round_filter input=80 output=128\n",
            "I1021 14:11:40.937136 135435016741504 efficientnet_model.py:143] round_filter input=112 output=176\n",
            "I1021 14:11:41.640117 135435016741504 efficientnet_model.py:143] round_filter input=112 output=176\n",
            "I1021 14:11:41.640326 135435016741504 efficientnet_model.py:143] round_filter input=192 output=304\n",
            "I1021 14:11:42.816735 135435016741504 efficientnet_model.py:143] round_filter input=192 output=304\n",
            "I1021 14:11:42.816937 135435016741504 efficientnet_model.py:143] round_filter input=320 output=512\n",
            "I1021 14:11:43.228619 135435016741504 efficientnet_model.py:143] round_filter input=1280 output=2048\n",
            "I1021 14:11:43.281908 135435016741504 efficientnet_model.py:453] Building model efficientnet with params ModelConfig(width_coefficient=1.6, depth_coefficient=2.2, resolution=456, dropout_rate=0.4, blocks=(BlockConfig(input_filters=32, output_filters=16, kernel_size=3, num_repeat=1, expand_ratio=1, strides=(1, 1), se_ratio=0.25, id_skip=True, fused_conv=False, conv_type='depthwise'), BlockConfig(input_filters=16, output_filters=24, kernel_size=3, num_repeat=2, expand_ratio=6, strides=(2, 2), se_ratio=0.25, id_skip=True, fused_conv=False, conv_type='depthwise'), BlockConfig(input_filters=24, output_filters=40, kernel_size=5, num_repeat=2, expand_ratio=6, strides=(2, 2), se_ratio=0.25, id_skip=True, fused_conv=False, conv_type='depthwise'), BlockConfig(input_filters=40, output_filters=80, kernel_size=3, num_repeat=3, expand_ratio=6, strides=(2, 2), se_ratio=0.25, id_skip=True, fused_conv=False, conv_type='depthwise'), BlockConfig(input_filters=80, output_filters=112, kernel_size=5, num_repeat=3, expand_ratio=6, strides=(1, 1), se_ratio=0.25, id_skip=True, fused_conv=False, conv_type='depthwise'), BlockConfig(input_filters=112, output_filters=192, kernel_size=5, num_repeat=4, expand_ratio=6, strides=(2, 2), se_ratio=0.25, id_skip=True, fused_conv=False, conv_type='depthwise'), BlockConfig(input_filters=192, output_filters=320, kernel_size=3, num_repeat=1, expand_ratio=6, strides=(1, 1), se_ratio=0.25, id_skip=True, fused_conv=False, conv_type='depthwise')), stem_base_filters=32, top_base_filters=1280, activation='simple_swish', batch_norm='default', bn_momentum=0.99, bn_epsilon=0.001, weight_decay=5e-06, drop_connect_rate=0.2, depth_divisor=8, min_depth=None, use_se=True, input_channels=3, num_classes=1000, model_name='efficientnet', rescale_input=False, data_format='channels_last', dtype='float32')\n",
            "I1021 14:11:43.450627 135435016741504 ssd_efficientnet_bifpn_feature_extractor.py:161] EfficientDet EfficientNet backbone version: efficientnet-b6\n",
            "I1021 14:11:43.450825 135435016741504 ssd_efficientnet_bifpn_feature_extractor.py:163] EfficientDet BiFPN num filters: 384\n",
            "I1021 14:11:43.450902 135435016741504 ssd_efficientnet_bifpn_feature_extractor.py:164] EfficientDet BiFPN num iterations: 8\n",
            "I1021 14:11:43.454141 135435016741504 efficientnet_model.py:143] round_filter input=32 output=56\n",
            "I1021 14:11:43.484116 135435016741504 efficientnet_model.py:143] round_filter input=32 output=56\n",
            "I1021 14:11:43.484268 135435016741504 efficientnet_model.py:143] round_filter input=16 output=32\n",
            "I1021 14:11:43.811185 135435016741504 efficientnet_model.py:143] round_filter input=16 output=32\n",
            "I1021 14:11:43.811396 135435016741504 efficientnet_model.py:143] round_filter input=24 output=40\n",
            "I1021 14:11:44.583880 135435016741504 efficientnet_model.py:143] round_filter input=24 output=40\n",
            "I1021 14:11:44.584066 135435016741504 efficientnet_model.py:143] round_filter input=40 output=72\n",
            "I1021 14:11:45.407599 135435016741504 efficientnet_model.py:143] round_filter input=40 output=72\n",
            "I1021 14:11:45.407818 135435016741504 efficientnet_model.py:143] round_filter input=80 output=144\n",
            "I1021 14:11:46.556899 135435016741504 efficientnet_model.py:143] round_filter input=80 output=144\n",
            "I1021 14:11:46.557172 135435016741504 efficientnet_model.py:143] round_filter input=112 output=200\n",
            "I1021 14:11:47.693001 135435016741504 efficientnet_model.py:143] round_filter input=112 output=200\n",
            "I1021 14:11:47.693203 135435016741504 efficientnet_model.py:143] round_filter input=192 output=344\n",
            "I1021 14:11:49.622827 135435016741504 efficientnet_model.py:143] round_filter input=192 output=344\n",
            "I1021 14:11:49.623038 135435016741504 efficientnet_model.py:143] round_filter input=320 output=576\n",
            "I1021 14:11:50.095176 135435016741504 efficientnet_model.py:143] round_filter input=1280 output=2304\n",
            "I1021 14:11:50.159665 135435016741504 efficientnet_model.py:453] Building model efficientnet with params ModelConfig(width_coefficient=1.8, depth_coefficient=2.6, resolution=528, dropout_rate=0.5, blocks=(BlockConfig(input_filters=32, output_filters=16, kernel_size=3, num_repeat=1, expand_ratio=1, strides=(1, 1), se_ratio=0.25, id_skip=True, fused_conv=False, conv_type='depthwise'), BlockConfig(input_filters=16, output_filters=24, kernel_size=3, num_repeat=2, expand_ratio=6, strides=(2, 2), se_ratio=0.25, id_skip=True, fused_conv=False, conv_type='depthwise'), BlockConfig(input_filters=24, output_filters=40, kernel_size=5, num_repeat=2, expand_ratio=6, strides=(2, 2), se_ratio=0.25, id_skip=True, fused_conv=False, conv_type='depthwise'), BlockConfig(input_filters=40, output_filters=80, kernel_size=3, num_repeat=3, expand_ratio=6, strides=(2, 2), se_ratio=0.25, id_skip=True, fused_conv=False, conv_type='depthwise'), BlockConfig(input_filters=80, output_filters=112, kernel_size=5, num_repeat=3, expand_ratio=6, strides=(1, 1), se_ratio=0.25, id_skip=True, fused_conv=False, conv_type='depthwise'), BlockConfig(input_filters=112, output_filters=192, kernel_size=5, num_repeat=4, expand_ratio=6, strides=(2, 2), se_ratio=0.25, id_skip=True, fused_conv=False, conv_type='depthwise'), BlockConfig(input_filters=192, output_filters=320, kernel_size=3, num_repeat=1, expand_ratio=6, strides=(1, 1), se_ratio=0.25, id_skip=True, fused_conv=False, conv_type='depthwise')), stem_base_filters=32, top_base_filters=1280, activation='simple_swish', batch_norm='default', bn_momentum=0.99, bn_epsilon=0.001, weight_decay=5e-06, drop_connect_rate=0.2, depth_divisor=8, min_depth=None, use_se=True, input_channels=3, num_classes=1000, model_name='efficientnet', rescale_input=False, data_format='channels_last', dtype='float32')\n",
            "I1021 14:11:50.357394 135435016741504 ssd_efficientnet_bifpn_feature_extractor.py:161] EfficientDet EfficientNet backbone version: efficientnet-b7\n",
            "I1021 14:11:50.357633 135435016741504 ssd_efficientnet_bifpn_feature_extractor.py:163] EfficientDet BiFPN num filters: 384\n",
            "I1021 14:11:50.357732 135435016741504 ssd_efficientnet_bifpn_feature_extractor.py:164] EfficientDet BiFPN num iterations: 8\n",
            "I1021 14:11:50.360908 135435016741504 efficientnet_model.py:143] round_filter input=32 output=64\n",
            "I1021 14:11:50.398397 135435016741504 efficientnet_model.py:143] round_filter input=32 output=64\n",
            "I1021 14:11:50.398573 135435016741504 efficientnet_model.py:143] round_filter input=16 output=32\n",
            "I1021 14:11:50.874792 135435016741504 efficientnet_model.py:143] round_filter input=16 output=32\n",
            "I1021 14:11:50.875012 135435016741504 efficientnet_model.py:143] round_filter input=24 output=48\n",
            "I1021 14:11:51.752056 135435016741504 efficientnet_model.py:143] round_filter input=24 output=48\n",
            "I1021 14:11:51.752243 135435016741504 efficientnet_model.py:143] round_filter input=40 output=80\n",
            "I1021 14:11:52.407733 135435016741504 efficientnet_model.py:143] round_filter input=40 output=80\n",
            "I1021 14:11:52.407927 135435016741504 efficientnet_model.py:143] round_filter input=80 output=160\n",
            "I1021 14:11:53.359028 135435016741504 efficientnet_model.py:143] round_filter input=80 output=160\n",
            "I1021 14:11:53.359215 135435016741504 efficientnet_model.py:143] round_filter input=112 output=224\n",
            "I1021 14:11:54.313892 135435016741504 efficientnet_model.py:143] round_filter input=112 output=224\n",
            "I1021 14:11:54.314053 135435016741504 efficientnet_model.py:143] round_filter input=192 output=384\n",
            "I1021 14:11:55.482759 135435016741504 efficientnet_model.py:143] round_filter input=192 output=384\n",
            "I1021 14:11:55.482930 135435016741504 efficientnet_model.py:143] round_filter input=320 output=640\n",
            "I1021 14:11:55.879335 135435016741504 efficientnet_model.py:143] round_filter input=1280 output=2560\n",
            "I1021 14:11:55.921506 135435016741504 efficientnet_model.py:453] Building model efficientnet with params ModelConfig(width_coefficient=2.0, depth_coefficient=3.1, resolution=600, dropout_rate=0.5, blocks=(BlockConfig(input_filters=32, output_filters=16, kernel_size=3, num_repeat=1, expand_ratio=1, strides=(1, 1), se_ratio=0.25, id_skip=True, fused_conv=False, conv_type='depthwise'), BlockConfig(input_filters=16, output_filters=24, kernel_size=3, num_repeat=2, expand_ratio=6, strides=(2, 2), se_ratio=0.25, id_skip=True, fused_conv=False, conv_type='depthwise'), BlockConfig(input_filters=24, output_filters=40, kernel_size=5, num_repeat=2, expand_ratio=6, strides=(2, 2), se_ratio=0.25, id_skip=True, fused_conv=False, conv_type='depthwise'), BlockConfig(input_filters=40, output_filters=80, kernel_size=3, num_repeat=3, expand_ratio=6, strides=(2, 2), se_ratio=0.25, id_skip=True, fused_conv=False, conv_type='depthwise'), BlockConfig(input_filters=80, output_filters=112, kernel_size=5, num_repeat=3, expand_ratio=6, strides=(1, 1), se_ratio=0.25, id_skip=True, fused_conv=False, conv_type='depthwise'), BlockConfig(input_filters=112, output_filters=192, kernel_size=5, num_repeat=4, expand_ratio=6, strides=(2, 2), se_ratio=0.25, id_skip=True, fused_conv=False, conv_type='depthwise'), BlockConfig(input_filters=192, output_filters=320, kernel_size=3, num_repeat=1, expand_ratio=6, strides=(1, 1), se_ratio=0.25, id_skip=True, fused_conv=False, conv_type='depthwise')), stem_base_filters=32, top_base_filters=1280, activation='simple_swish', batch_norm='default', bn_momentum=0.99, bn_epsilon=0.001, weight_decay=5e-06, drop_connect_rate=0.2, depth_divisor=8, min_depth=None, use_se=True, input_channels=3, num_classes=1000, model_name='efficientnet', rescale_input=False, data_format='channels_last', dtype='float32')\n",
            "INFO:tensorflow:time(__main__.ModelBuilderTF2Test.test_create_ssd_models_from_config): 32.13s\n",
            "I1021 14:11:56.049942 135435016741504 test_util.py:2472] time(__main__.ModelBuilderTF2Test.test_create_ssd_models_from_config): 32.13s\n",
            "[       OK ] ModelBuilderTF2Test.test_create_ssd_models_from_config\n",
            "[ RUN      ] ModelBuilderTF2Test.test_invalid_faster_rcnn_batchnorm_update\n",
            "INFO:tensorflow:time(__main__.ModelBuilderTF2Test.test_invalid_faster_rcnn_batchnorm_update): 0.0s\n",
            "I1021 14:11:56.079053 135435016741504 test_util.py:2472] time(__main__.ModelBuilderTF2Test.test_invalid_faster_rcnn_batchnorm_update): 0.0s\n",
            "[       OK ] ModelBuilderTF2Test.test_invalid_faster_rcnn_batchnorm_update\n",
            "[ RUN      ] ModelBuilderTF2Test.test_invalid_first_stage_nms_iou_threshold\n",
            "INFO:tensorflow:time(__main__.ModelBuilderTF2Test.test_invalid_first_stage_nms_iou_threshold): 0.0s\n",
            "I1021 14:11:56.081336 135435016741504 test_util.py:2472] time(__main__.ModelBuilderTF2Test.test_invalid_first_stage_nms_iou_threshold): 0.0s\n",
            "[       OK ] ModelBuilderTF2Test.test_invalid_first_stage_nms_iou_threshold\n",
            "[ RUN      ] ModelBuilderTF2Test.test_invalid_model_config_proto\n",
            "INFO:tensorflow:time(__main__.ModelBuilderTF2Test.test_invalid_model_config_proto): 0.0s\n",
            "I1021 14:11:56.082080 135435016741504 test_util.py:2472] time(__main__.ModelBuilderTF2Test.test_invalid_model_config_proto): 0.0s\n",
            "[       OK ] ModelBuilderTF2Test.test_invalid_model_config_proto\n",
            "[ RUN      ] ModelBuilderTF2Test.test_invalid_second_stage_batch_size\n",
            "INFO:tensorflow:time(__main__.ModelBuilderTF2Test.test_invalid_second_stage_batch_size): 0.0s\n",
            "I1021 14:11:56.083669 135435016741504 test_util.py:2472] time(__main__.ModelBuilderTF2Test.test_invalid_second_stage_batch_size): 0.0s\n",
            "[       OK ] ModelBuilderTF2Test.test_invalid_second_stage_batch_size\n",
            "[ RUN      ] ModelBuilderTF2Test.test_session\n",
            "[  SKIPPED ] ModelBuilderTF2Test.test_session\n",
            "[ RUN      ] ModelBuilderTF2Test.test_unknown_faster_rcnn_feature_extractor\n",
            "INFO:tensorflow:time(__main__.ModelBuilderTF2Test.test_unknown_faster_rcnn_feature_extractor): 0.0s\n",
            "I1021 14:11:56.085012 135435016741504 test_util.py:2472] time(__main__.ModelBuilderTF2Test.test_unknown_faster_rcnn_feature_extractor): 0.0s\n",
            "[       OK ] ModelBuilderTF2Test.test_unknown_faster_rcnn_feature_extractor\n",
            "[ RUN      ] ModelBuilderTF2Test.test_unknown_meta_architecture\n",
            "INFO:tensorflow:time(__main__.ModelBuilderTF2Test.test_unknown_meta_architecture): 0.0s\n",
            "I1021 14:11:56.085455 135435016741504 test_util.py:2472] time(__main__.ModelBuilderTF2Test.test_unknown_meta_architecture): 0.0s\n",
            "[       OK ] ModelBuilderTF2Test.test_unknown_meta_architecture\n",
            "[ RUN      ] ModelBuilderTF2Test.test_unknown_ssd_feature_extractor\n",
            "INFO:tensorflow:time(__main__.ModelBuilderTF2Test.test_unknown_ssd_feature_extractor): 0.0s\n",
            "I1021 14:11:56.086542 135435016741504 test_util.py:2472] time(__main__.ModelBuilderTF2Test.test_unknown_ssd_feature_extractor): 0.0s\n",
            "[       OK ] ModelBuilderTF2Test.test_unknown_ssd_feature_extractor\n",
            "----------------------------------------------------------------------\n",
            "Ran 24 tests in 39.153s\n",
            "\n",
            "OK (skipped=1)\n"
          ]
        }
      ]
    },
    {
      "cell_type": "code",
      "source": [
        "!pwd"
      ],
      "metadata": {
        "colab": {
          "base_uri": "https://localhost:8080/"
        },
        "id": "kIX_Pj-Bk1Qe",
        "outputId": "fb645897-2d66-40d5-c0d2-b76e14e43ebe"
      },
      "execution_count": 32,
      "outputs": [
        {
          "output_type": "stream",
          "name": "stdout",
          "text": [
            "/content/gdrive/MyDrive/Tensorflow/customTF2/models/research\n"
          ]
        }
      ]
    },
    {
      "cell_type": "code",
      "source": [
        "!cd /content/gdrive/MyDrive/Tensorflow/customTF2/data"
      ],
      "metadata": {
        "id": "zcdFS_Y6nYp_"
      },
      "execution_count": 33,
      "outputs": []
    },
    {
      "cell_type": "code",
      "source": [
        "!pwd"
      ],
      "metadata": {
        "colab": {
          "base_uri": "https://localhost:8080/"
        },
        "id": "NAgEJqanndv3",
        "outputId": "f656faa4-d469-48e1-f983-731da90601c8"
      },
      "execution_count": 34,
      "outputs": [
        {
          "output_type": "stream",
          "name": "stdout",
          "text": [
            "/content/gdrive/MyDrive/Tensorflow/customTF2/models/research\n"
          ]
        }
      ]
    },
    {
      "cell_type": "code",
      "source": [
        "%cd /content/gdrive/MyDrive/Tensorflow/customTF2/data"
      ],
      "metadata": {
        "colab": {
          "base_uri": "https://localhost:8080/"
        },
        "id": "J0OYL054nfgW",
        "outputId": "0b220e0e-9bfc-4607-feb0-0ca2a5f595eb"
      },
      "execution_count": 35,
      "outputs": [
        {
          "output_type": "stream",
          "name": "stdout",
          "text": [
            "/content/gdrive/MyDrive/Tensorflow/customTF2/data\n"
          ]
        }
      ]
    },
    {
      "cell_type": "code",
      "source": [
        "# unzip the datasets and their contents so that they are now in /mydrive/customTF2/data/ folder\n",
        "!unzip /content/gdrive/MyDrive/Tensorflow/customTF2/images.zip -d .\n",
        "!unzip /content/gdrive/MyDrive/Tensorflow/customTF2/annotations.zip -d ."
      ],
      "metadata": {
        "colab": {
          "base_uri": "https://localhost:8080/"
        },
        "id": "JtHW_fXdnjwo",
        "outputId": "8f3bdd88-8722-4d2a-e546-097034910a94"
      },
      "execution_count": 41,
      "outputs": [
        {
          "output_type": "stream",
          "name": "stdout",
          "text": [
            "Archive:  /content/gdrive/MyDrive/Tensorflow/customTF2/images.zip\n",
            "replace ./aLLImages/0001_T_JPG.rf.b05c14ef84738d4feadf6199b9729eb1.jpg? [y]es, [n]o, [A]ll, [N]one, [r]ename: Archive:  /content/gdrive/MyDrive/Tensorflow/customTF2/annotations.zip\n",
            "   creating: ./aLLAnnotaioms/\n",
            "  inflating: ./aLLAnnotaioms/0001_T_JPG.rf.b05c14ef84738d4feadf6199b9729eb1.xml  \n",
            "  inflating: ./aLLAnnotaioms/0002_T_JPG.rf.97f7a5d97b77f89665a9dc7a72748d21.xml  \n",
            "  inflating: ./aLLAnnotaioms/0003_T_JPG.rf.3e2e29195b2b60e31bcc3242397f7660.xml  \n",
            "  inflating: ./aLLAnnotaioms/0004_T_JPG.rf.71d7d0f25547e57546074671bb4a6626.xml  \n",
            "  inflating: ./aLLAnnotaioms/0005_T_JPG.rf.7d78f42f84ab4a9675109aae600de20c.xml  \n",
            "  inflating: ./aLLAnnotaioms/0006_T_JPG.rf.8cdf5907b790a48e41a0844d6909e62c.xml  \n",
            "  inflating: ./aLLAnnotaioms/0007_T_JPG.rf.ffb39530a6630a22bf4e2d9a856ca799.xml  \n",
            "  inflating: ./aLLAnnotaioms/0008_T_JPG.rf.395bd43cbe678dbeb5f9de31a16bcde1.xml  \n",
            "  inflating: ./aLLAnnotaioms/0009_T_JPG.rf.98028aa485f646046c6a2a99c04943e1.xml  \n",
            "  inflating: ./aLLAnnotaioms/0010_T_JPG.rf.dc5a798d02f8e9a0149e9a0b0d6e5b93.xml  \n",
            "  inflating: ./aLLAnnotaioms/0011_T_JPG.rf.b783b05a2725d4e53574b142e7ebb3d7.xml  \n",
            "  inflating: ./aLLAnnotaioms/0012_T_JPG.rf.e4e47a777309c8f48a187e8a9c17cbab.xml  \n",
            "  inflating: ./aLLAnnotaioms/0013_T_JPG.rf.eba2f069cb2b11e49a60cdd2ba5059bc.xml  \n",
            "  inflating: ./aLLAnnotaioms/0014_T_JPG.rf.399ec2354f8106b4a9c5a00001029308.xml  \n",
            "  inflating: ./aLLAnnotaioms/0015_T_JPG.rf.f56138aa46b5efd05632abb1f676fecf.xml  \n",
            "  inflating: ./aLLAnnotaioms/0016_T_JPG.rf.90b7b131cf95bd30dc83d084762d0c4e.xml  \n",
            "  inflating: ./aLLAnnotaioms/0017_T_JPG.rf.91bcbc3bfb74b663ee788984610c6245.xml  \n",
            "  inflating: ./aLLAnnotaioms/0018_T_JPG.rf.0218550a4fa6619c214d93d2ed35742e.xml  \n",
            "  inflating: ./aLLAnnotaioms/0019_T_JPG.rf.cea46732ee6509c5c2dbcda51985b67e.xml  \n",
            "  inflating: ./aLLAnnotaioms/0020_T_JPG.rf.7f6dfaec6146eed8c16399e6eb40b768.xml  \n",
            "  inflating: ./aLLAnnotaioms/0021_T_JPG.rf.16a15c82b86b12d5da1b6ef5ead42832.xml  \n",
            "  inflating: ./aLLAnnotaioms/0022_T_JPG.rf.59462816ec11fe17bead7c4935c92d7d.xml  \n",
            "  inflating: ./aLLAnnotaioms/0023_T_JPG.rf.2a9f90f6d7d25269f51967179aafae2d.xml  \n",
            "  inflating: ./aLLAnnotaioms/0024_T_JPG.rf.74e42801cec5e32b2a66bf10cdb4222a.xml  \n",
            "  inflating: ./aLLAnnotaioms/0025_T_JPG.rf.a53e8bdcda972a61074fa4c993057c6b.xml  \n",
            "  inflating: ./aLLAnnotaioms/0026_T_JPG.rf.ef70db5f20e34cf9c0fb9824ca0259fb.xml  \n",
            "  inflating: ./aLLAnnotaioms/0027_T_JPG.rf.ef1ad7d10fa7b87cdeb7bccbe30ba391.xml  \n",
            "  inflating: ./aLLAnnotaioms/0028_T_JPG.rf.378398dbffbfe58222de3037dd662890.xml  \n",
            "  inflating: ./aLLAnnotaioms/0029_T_JPG.rf.3d6c202b4e1d6c9f50913d68db61ee8d.xml  \n",
            "  inflating: ./aLLAnnotaioms/0030_T_JPG.rf.5d0c116c6546807fc6fa204a65a4bb56.xml  \n",
            "  inflating: ./aLLAnnotaioms/0031_T_JPG.rf.da2a8d68d3c376b75ce8597bc66f0abf.xml  \n",
            "  inflating: ./aLLAnnotaioms/0032_T_JPG.rf.e3c7a9b55c861fccb2e8d8ed1e9f1fcf.xml  \n",
            "  inflating: ./aLLAnnotaioms/0033_T_JPG.rf.18ddf7b57941fb917a010b070a275f3d.xml  \n",
            "  inflating: ./aLLAnnotaioms/0034_T_JPG.rf.6ecb774aeceb4bf6fee1f1f6fffff69d.xml  \n",
            "  inflating: ./aLLAnnotaioms/0035_T_JPG.rf.ff7437e4fd8309173d4c1ef2a658a031.xml  \n",
            "  inflating: ./aLLAnnotaioms/0036_T_JPG.rf.d9e66f924d2bda9eac2f17d13818414d.xml  \n",
            "  inflating: ./aLLAnnotaioms/0037_T_JPG.rf.c6afcc49c8f72632d307b87e0777cf7f.xml  \n",
            "  inflating: ./aLLAnnotaioms/0038_T_JPG.rf.92b02b5861e1195521a671f95f433d19.xml  \n",
            "  inflating: ./aLLAnnotaioms/0039_T_JPG.rf.8be92bf56cb5cf30e6ba7edf8971d297.xml  \n",
            "  inflating: ./aLLAnnotaioms/0040_T_JPG.rf.63bae766be62ccb42b6828f0b9b5799c.xml  \n",
            "  inflating: ./aLLAnnotaioms/0041_T_JPG.rf.25b03f54894da0844327ee4633320a5f.xml  \n",
            "  inflating: ./aLLAnnotaioms/0042_T_JPG.rf.c035ca010626a63001b69c99aabd762a.xml  \n",
            "  inflating: ./aLLAnnotaioms/0043_T_JPG.rf.7a2001f377d035ee93a73c310064aa48.xml  \n",
            "  inflating: ./aLLAnnotaioms/0044_T_JPG.rf.974b956a061fbc0f38e25fac2f3ae058.xml  \n",
            "  inflating: ./aLLAnnotaioms/0045_T_JPG.rf.767a28aabc52ccf0dedffdb5671d03cf.xml  \n",
            "  inflating: ./aLLAnnotaioms/0046_T_JPG.rf.bea919a2a3a7bc91ba65dbc11869508f.xml  \n",
            "  inflating: ./aLLAnnotaioms/0047_T_JPG.rf.cdb9d84025535d4b38f60f8d76b5b8b4.xml  \n",
            "  inflating: ./aLLAnnotaioms/0048_T_JPG.rf.db31c0eaff4a155995b4be9c16508b15.xml  \n",
            "  inflating: ./aLLAnnotaioms/0049_T_JPG.rf.38a681d3b359adb658bd76a2c41b558f.xml  \n",
            "  inflating: ./aLLAnnotaioms/0050_T_JPG.rf.e26f07d33d272e455110bc6f371adf06.xml  \n"
          ]
        }
      ]
    },
    {
      "cell_type": "code",
      "source": [
        "!pwd"
      ],
      "metadata": {
        "colab": {
          "base_uri": "https://localhost:8080/"
        },
        "id": "neW9dfsrnpAH",
        "outputId": "40f6be4c-7198-401f-ba55-7c32aa36ae65"
      },
      "execution_count": 38,
      "outputs": [
        {
          "output_type": "stream",
          "name": "stdout",
          "text": [
            "/content/gdrive/MyDrive/Tensorflow/customTF2/data\n"
          ]
        }
      ]
    },
    {
      "cell_type": "code",
      "source": [
        "#creating two dir for training and testing\n",
        "!mkdir test_labels train_labels\n",
        "\n",
        "# lists the files inside 'annotations' in a random order (not really random, by their hash value instead)\n",
        "# Moves the first 274/1370 labels (20% of the labels) to the testing dir: `test_labels`\n",
        "!ls AllAannotations/* | sort -R | head -10 | xargs -I{} mv {} test_labels/\n",
        "\n",
        "\n",
        "# Moves the rest of the labels ( 1096 labels ) to the training dir: `train_labels`\n",
        "!ls annotations/* | xargs -I{} mv {} train_labels/"
      ],
      "metadata": {
        "colab": {
          "base_uri": "https://localhost:8080/"
        },
        "id": "Miv1-Bq1oLgZ",
        "outputId": "8ab6d8da-6ef7-4aba-cc6c-a0496bb36416"
      },
      "execution_count": 39,
      "outputs": [
        {
          "output_type": "stream",
          "name": "stdout",
          "text": [
            "ls: cannot access 'annotations/*': No such file or directory\n",
            "ls: cannot access 'annotations/*': No such file or directory\n"
          ]
        }
      ]
    },
    {
      "cell_type": "code",
      "source": [
        "!ls"
      ],
      "metadata": {
        "colab": {
          "base_uri": "https://localhost:8080/"
        },
        "id": "GpWoxbwLoVog",
        "outputId": "4985b50c-bc97-4ed6-a6e0-067d104869c5"
      },
      "execution_count": 40,
      "outputs": [
        {
          "output_type": "stream",
          "name": "stdout",
          "text": [
            "aLLAnnotaioms  aLLImages  annotations  images  test_labels  train_labels\n"
          ]
        }
      ]
    },
    {
      "cell_type": "code",
      "source": [],
      "metadata": {
        "id": "071zl6NwolzZ"
      },
      "execution_count": null,
      "outputs": []
    }
  ]
}